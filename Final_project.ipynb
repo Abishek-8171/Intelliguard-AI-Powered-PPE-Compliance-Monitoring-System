{
  "nbformat": 4,
  "nbformat_minor": 0,
  "metadata": {
    "colab": {
      "provenance": [],
      "gpuType": "T4"
    },
    "kernelspec": {
      "name": "python3",
      "display_name": "Python 3"
    },
    "language_info": {
      "name": "python"
    },
    "accelerator": "GPU"
  },
  "cells": [
    {
      "cell_type": "markdown",
      "source": [
        "# ***Intelliguard : AI-Powered PPE Compliance Monitoring System***"
      ],
      "metadata": {
        "id": "LPPi81SrLWOO"
      }
    },
    {
      "cell_type": "markdown",
      "source": [
        "# **Image dataset**"
      ],
      "metadata": {
        "id": "kpZKb7BFLN65"
      }
    },
    {
      "cell_type": "code",
      "execution_count": null,
      "metadata": {
        "id": "YG6Lw9OtntXG",
        "collapsed": true
      },
      "outputs": [],
      "source": [
        "!pip install ultralytics -q"
      ]
    },
    {
      "cell_type": "code",
      "source": [
        "!unzip /content/drive/MyDrive/Intelliguard/img_data.zip -d /content/img_data"
      ],
      "metadata": {
        "collapsed": true,
        "id": "-QV3_nvENZjt"
      },
      "execution_count": null,
      "outputs": []
    },
    {
      "cell_type": "markdown",
      "source": [
        "# ***Count of the instanses***"
      ],
      "metadata": {
        "id": "IpS5Z00DEZiQ"
      }
    },
    {
      "cell_type": "markdown",
      "source": [
        "# ***Train labels***"
      ],
      "metadata": {
        "id": "oxcjZ2BvY8BN"
      }
    },
    {
      "cell_type": "code",
      "source": [
        "import os\n",
        "from collections import Counter\n",
        "\n",
        "# Path to labels folder\n",
        "labels_dir = '/content/img_data/img_data/labels/train'\n",
        "\n",
        "# Count instances per class\n",
        "class_counter = Counter()\n",
        "\n",
        "# Iterate over label files\n",
        "for label_file in os.listdir(labels_dir):\n",
        "    if label_file.endswith('.txt'):\n",
        "        with open(os.path.join(labels_dir, label_file), 'r') as f:\n",
        "            lines = f.readlines()\n",
        "            for line in lines:\n",
        "                class_id = int(line.strip().split()[0])\n",
        "                class_counter[class_id] += 1\n",
        "\n",
        "# Class names (adjust based on your dataset.yaml order)\n",
        "class_names = ['glove', 'goggles', 'helmet', 'mask', 'no-suit', 'no_glove', 'no_goggles', 'no_helmet', 'no_mask', 'no_shoes', 'shoes', 'suit']\n",
        "\n",
        "# Print results\n",
        "print(\"Class Distribution:\\n\")\n",
        "for class_id, count in class_counter.items():\n",
        "    print(f\"{class_names[class_id]}: {count} instances\")\n"
      ],
      "metadata": {
        "id": "qx4Y0BRCDLoP"
      },
      "execution_count": null,
      "outputs": []
    },
    {
      "cell_type": "code",
      "source": [
        "\n",
        "class_names = ['glove', 'goggles', 'helmet', 'mask', 'no-suit', 'no_glove', 'no_goggles', 'no_helmet', 'no_mask', 'no_shoes', 'shoes', 'suit']\n",
        "\n",
        "# Set up\n",
        "annotation_folder = \"/content/img_data/img_data/labels/train\"  # or \"annotations\", etc.\n",
        "used_classes = set()\n",
        "\n",
        "# Read all annotation files\n",
        "for file in os.listdir(annotation_folder):\n",
        "    if file.endswith(\".txt\"):\n",
        "        with open(os.path.join(annotation_folder, file)) as f:\n",
        "            for line in f:\n",
        "                if line.strip():  # ignore empty lines\n",
        "                    class_id = int(line.split()[0])\n",
        "                    used_classes.add(class_id)\n",
        "\n",
        "# Check all vs. used\n",
        "all_class_ids = set(range(len(class_names)))\n",
        "missing_classes = all_class_ids - used_classes\n",
        "\n",
        "# Output\n",
        "print(\"✅ Classes with at least one instance:\")\n",
        "for cid in sorted(used_classes):\n",
        "    print(f\"{cid}: {class_names[cid]}\")\n",
        "\n",
        "print(\"\\n❌ Classes with NO instances:\")\n",
        "for cid in sorted(missing_classes):\n",
        "    print(f\"{cid}: {class_names[cid]}\")\n"
      ],
      "metadata": {
        "id": "MJNLTh0SrXnq"
      },
      "execution_count": null,
      "outputs": []
    },
    {
      "cell_type": "markdown",
      "source": [
        "# ***Test labels***"
      ],
      "metadata": {
        "id": "fN9NagPTZEnN"
      }
    },
    {
      "cell_type": "code",
      "source": [
        "labels_dir = '/content/img_data/img_data/labels/test'\n",
        "\n",
        "class_counter = Counter()\n",
        "\n",
        "for label_file in os.listdir(labels_dir):\n",
        "    if label_file.endswith('.txt'):\n",
        "        with open(os.path.join(labels_dir, label_file), 'r') as f:\n",
        "            lines = f.readlines()\n",
        "            for line in lines:\n",
        "                class_id = int(line.strip().split()[0])\n",
        "                class_counter[class_id] += 1\n",
        "\n",
        "class_names = ['glove', 'goggles', 'helmet', 'mask', 'no-suit', 'no_glove', 'no_goggles', 'no_helmet', 'no_mask', 'no_shoes', 'shoes', 'suit']\n",
        "\n",
        "print(\"Class Distribution:\\n\")\n",
        "for class_id, count in class_counter.items():\n",
        "    print(f\"{class_names[class_id]}: {count} instances\")\n"
      ],
      "metadata": {
        "id": "r_44d1cdZEJ-"
      },
      "execution_count": null,
      "outputs": []
    },
    {
      "cell_type": "code",
      "source": [
        "class_names = ['glove', 'goggles', 'helmet', 'mask', 'no-suit', 'no_glove', 'no_goggles', 'no_helmet', 'no_mask', 'no_shoes', 'shoes', 'suit']\n",
        "\n",
        "annotation_folder = \"/content/img_data/img_data/labels/test\"\n",
        "used_classes = set()\n",
        "\n",
        "for file in os.listdir(annotation_folder):\n",
        "    if file.endswith(\".txt\"):\n",
        "        with open(os.path.join(annotation_folder, file)) as f:\n",
        "            for line in f:\n",
        "                if line.strip():\n",
        "                    class_id = int(line.split()[0])\n",
        "                    used_classes.add(class_id)\n",
        "\n",
        "all_class_ids = set(range(len(class_names)))\n",
        "missing_classes = all_class_ids - used_classes\n",
        "\n",
        "print(\"✅ Classes with at least one instance:\")\n",
        "for cid in sorted(used_classes):\n",
        "    print(f\"{cid}: {class_names[cid]}\")\n",
        "\n",
        "print(\"\\n❌ Classes with NO instances:\")\n",
        "for cid in sorted(missing_classes):\n",
        "    print(f\"{cid}: {class_names[cid]}\")\n"
      ],
      "metadata": {
        "id": "eqf2EIJMZkvk"
      },
      "execution_count": null,
      "outputs": []
    },
    {
      "cell_type": "markdown",
      "source": [
        "# ***Valid Labels***"
      ],
      "metadata": {
        "id": "VqiAeumoZp-b"
      }
    },
    {
      "cell_type": "code",
      "source": [
        "\n",
        "labels_dir = '/content/img_data/img_data/labels/valid'\n",
        "class_counter = Counter()\n",
        "\n",
        "for label_file in os.listdir(labels_dir):\n",
        "    if label_file.endswith('.txt'):\n",
        "        with open(os.path.join(labels_dir, label_file), 'r') as f:\n",
        "            lines = f.readlines()\n",
        "            for line in lines:\n",
        "                class_id = int(line.strip().split()[0])\n",
        "                class_counter[class_id] += 1\n",
        "\n",
        "class_names = ['glove', 'goggles', 'helmet', 'mask', 'no-suit', 'no_glove', 'no_goggles', 'no_helmet', 'no_mask', 'no_shoes', 'shoes', 'suit']\n",
        "\n",
        "print(\"Class Distribution:\\n\")\n",
        "for class_id, count in class_counter.items():\n",
        "    print(f\"{class_names[class_id]}: {count} instances\")\n"
      ],
      "metadata": {
        "id": "AoyS8o3jZpkT"
      },
      "execution_count": null,
      "outputs": []
    },
    {
      "cell_type": "code",
      "source": [
        "\n",
        "class_names = ['glove', 'goggles', 'helmet', 'mask', 'no-suit', 'no_glove', 'no_goggles', 'no_helmet', 'no_mask', 'no_shoes', 'shoes', 'suit']\n",
        "\n",
        "annotation_folder = \"/content/img_data/img_data/labels/valid\"\n",
        "used_classes = set()\n",
        "\n",
        "for file in os.listdir(annotation_folder):\n",
        "    if file.endswith(\".txt\"):\n",
        "        with open(os.path.join(annotation_folder, file)) as f:\n",
        "            for line in f:\n",
        "                if line.strip():\n",
        "                    class_id = int(line.split()[0])\n",
        "                    used_classes.add(class_id)\n",
        "\n",
        "all_class_ids = set(range(len(class_names)))\n",
        "missing_classes = all_class_ids - used_classes\n",
        "\n",
        "print(\"✅ Classes with at least one instance:\")\n",
        "for cid in sorted(used_classes):\n",
        "    print(f\"{cid}: {class_names[cid]}\")\n",
        "\n",
        "print(\"\\n❌ Classes with NO instances:\")\n",
        "for cid in sorted(missing_classes):\n",
        "    print(f\"{cid}: {class_names[cid]}\")\n"
      ],
      "metadata": {
        "id": "lLbnZSw6Z2KD"
      },
      "execution_count": null,
      "outputs": []
    },
    {
      "cell_type": "markdown",
      "source": [
        "# *YAML FILE*"
      ],
      "metadata": {
        "id": "pq1oeYHqjKJH"
      }
    },
    {
      "cell_type": "code",
      "source": [
        "# yaml file creation\n",
        "\n",
        "yaml_content = \"\"\"train: /content/img_data/img_data/images/train\n",
        "val: /content/img_data/img_data/images/valid\n",
        "test: /content/img_data/img_data/images/test\n",
        "\n",
        "nc: 12\n",
        "names: ['glove', 'goggles', 'helmet', 'mask', 'no-suit', 'no_glove', 'no_goggles', 'no_helmet', 'no_mask', 'no_shoes', 'shoes', 'suit']\n",
        "\"\"\"\n",
        "\n",
        "with open(\"/content/img_data/img_data/data_yolo.yaml\",'w') as file:\n",
        "  file.write(yaml_content)"
      ],
      "metadata": {
        "id": "Yiv1KJK4ULiw"
      },
      "execution_count": null,
      "outputs": []
    },
    {
      "cell_type": "markdown",
      "source": [
        "# ***Yolo model***"
      ],
      "metadata": {
        "id": "aP0dys3hjNmf"
      }
    },
    {
      "cell_type": "code",
      "source": [
        "from ultralytics import YOLO\n",
        "import yaml"
      ],
      "metadata": {
        "id": "vYYhkunD7Dz0"
      },
      "execution_count": null,
      "outputs": []
    },
    {
      "cell_type": "code",
      "source": [
        "model = YOLO('yolov8m.pt') #loading model"
      ],
      "metadata": {
        "id": "cXFBhPHS7G4y"
      },
      "execution_count": null,
      "outputs": []
    },
    {
      "cell_type": "code",
      "source": [
        "model.train(data=\"/content/img_data/img_data/data_yolo.yaml\",batch=1,imgsz=640, epochs=25)"
      ],
      "metadata": {
        "collapsed": true,
        "id": "Z3DEWZFGSNY4"
      },
      "execution_count": null,
      "outputs": []
    },
    {
      "cell_type": "code",
      "source": [
        "result=model.val()"
      ],
      "metadata": {
        "id": "iKHV_o3Qhz1B"
      },
      "execution_count": null,
      "outputs": []
    },
    {
      "cell_type": "code",
      "source": [
        "detections = model.predict(\"/content/img_data/img_data/images/train/PP02img100_jpg.rf.1f966ce2d29ce68d4e8a6f2ce2d6280c.jpg\")"
      ],
      "metadata": {
        "id": "9EhOIaX0F-fS"
      },
      "execution_count": null,
      "outputs": []
    },
    {
      "cell_type": "code",
      "source": [
        "# to plot thr detection\n",
        "import matplotlib.pyplot as plt\n",
        "\n",
        "plt.imshow(detections[0].plot())\n",
        "plt.show()"
      ],
      "metadata": {
        "id": "FpjLQQr2GBIf"
      },
      "execution_count": null,
      "outputs": []
    },
    {
      "cell_type": "code",
      "source": [
        "# Save the model\n",
        "model.save(\"/content/PPE_YOLO_MODEL.pt\")"
      ],
      "metadata": {
        "id": "fP1ICYdpHRiu"
      },
      "execution_count": null,
      "outputs": []
    },
    {
      "cell_type": "code",
      "source": [
        "model = YOLO('/content/PPE_YOLO_MODEL.pt') #loading model"
      ],
      "metadata": {
        "id": "ViHX5WSDoCtB"
      },
      "execution_count": null,
      "outputs": []
    },
    {
      "cell_type": "code",
      "source": [
        "detections = model.predict(\"/content/img_data/img_data/images/train/PP02img108_jpg.rf.f3fe5179039432896828a9e665b76810.jpg\")"
      ],
      "metadata": {
        "id": "SSnZIPtvoImB"
      },
      "execution_count": null,
      "outputs": []
    },
    {
      "cell_type": "code",
      "source": [
        "plt.imshow(detections[0].plot())\n",
        "plt.show()"
      ],
      "metadata": {
        "id": "3LVQS6v_pjkb"
      },
      "execution_count": null,
      "outputs": []
    },
    {
      "cell_type": "code",
      "source": [
        "from datetime import datetime\n",
        "import pytz\n",
        "india = pytz.timezone('Asia/Kolkata')\n",
        "now = datetime.now(india)"
      ],
      "metadata": {
        "id": "ZdxhMTxWuk-I"
      },
      "execution_count": null,
      "outputs": []
    },
    {
      "cell_type": "code",
      "source": [
        "import pandas as pd\n",
        "data = []\n",
        "\n",
        "# Get class names from the model\n",
        "names = model.names\n",
        "\n",
        "# Loop through results\n",
        "for r in detections:\n",
        "    boxes = r.boxes\n",
        "    for box in boxes:\n",
        "        cls_id = int(box.cls[0])\n",
        "        label = names[cls_id]\n",
        "        conf = float(box.conf[0])\n",
        "\n",
        "        data.append({\n",
        "            \"Date\" : now.strftime('%Y-%m-%d'),\n",
        "            \"Time\" : now.strftime('%H:%M:%S'),\n",
        "            \"Label\": label,\n",
        "            \"Confidence\": round(conf, 2)\n",
        "        })\n",
        "\n",
        "Detection_data = pd.DataFrame(data)\n",
        "\n",
        "Detection_data"
      ],
      "metadata": {
        "id": "CXHBgOvXsf9U"
      },
      "execution_count": null,
      "outputs": []
    }
  ]
}